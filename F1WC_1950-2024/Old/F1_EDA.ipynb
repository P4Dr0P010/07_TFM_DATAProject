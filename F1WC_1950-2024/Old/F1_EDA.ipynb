{
 "cells": [
  {
   "cell_type": "code",
   "execution_count": null,
   "id": "eeb68c6f",
   "metadata": {},
   "outputs": [],
   "source": [
    "# Lectura de archivos\n",
    "import pandas as pd\n",
    "import numpy as np\n",
    "\n",
    "# Muestra todas las columnas del DataFrame\n",
    "pd.set_option('display.max_columns', None)"
   ]
  },
  {
   "cell_type": "code",
   "execution_count": null,
   "id": "0678240c",
   "metadata": {},
   "outputs": [],
   "source": [
    "#Lectura y Carga de dataframes\n",
    "circuits                = pd.read_csv('./00_data_raw/circuits.csv',                 index_col= 0)\n",
    "constructor_results     = pd.read_csv('./00_data_raw/constructor_results.csv',      index_col= 0)\n",
    "constructor_standings   = pd.read_csv('./00_data_raw/constructor_standings.csv',    index_col= 0)\n",
    "constructors            = pd.read_csv('./00_data_raw/constructors.csv',             index_col= 0)\n",
    "driver_standings        = pd.read_csv('./00_data_raw/driver_standings.csv',         index_col= 0)\n",
    "drivers                 = pd.read_csv('./00_data_raw/drivers.csv',                  index_col= 0)\n",
    "lap_times               = pd.read_csv('./00_data_raw/lap_times.csv',                index_col= 0)\n",
    "pit_stops               = pd.read_csv('./00_data_raw/pit_stops.csv',                index_col= 0)\n",
    "qualifying              = pd.read_csv('./00_data_raw/qualifying.csv',               index_col= 0)\n",
    "races                   = pd.read_csv('./00_data_raw/races.csv',                    index_col= 0)\n",
    "results                 = pd.read_csv('./00_data_raw/results.csv',                  index_col= 0)\n",
    "sprint_results          = pd.read_csv('./00_data_raw/sprint_results.csv',           index_col= 0)\n",
    "status                  = pd.read_csv('./00_data_raw/status.csv',                   index_col= 0)"
   ]
  },
  {
   "cell_type": "code",
   "execution_count": null,
   "id": "028423fe",
   "metadata": {},
   "outputs": [],
   "source": [
    "# Lectura aleatoria de los datos en los dataframes\n",
    "# circuits.sample(9)\n",
    "# constructor_results.sample(9)\n",
    "# constructor_standings.sample(9)\n",
    "# constructors.sample(9)\n",
    "# driver_standings.sample(9)\n",
    "# drivers.sample(9)\n",
    "# lap_times.sample(9)\n",
    "# pit_stops.sample(9)\n",
    "# qualifying.sample(9)\n",
    "# races.sample(9)\n",
    "# results.sample(9)\n",
    "# sprint_results.sample(9)\n",
    "# status.sample(9)"
   ]
  },
  {
   "cell_type": "code",
   "execution_count": null,
   "id": "080c7455",
   "metadata": {},
   "outputs": [],
   "source": [
    "# Tratamiento y modificaciones del dataframe 'circuits':\n",
    "# Elimnar columnas innecesarias: ['url']\n",
    "circuits.drop(columns=['url'], inplace=True)\n",
    "# Sustituir valores '\\N' por NaN para normalizacion de nulos\n",
    "circuits.replace('\\\\N', np.nan, inplace=True)\n",
    "\n",
    "# Formatear columna ['circuitRef'] a Nombre Propio\n",
    "circuits['circuitRef'] = circuits['circuitRef'].str.capitalize()\n",
    "circuits.sample(5)"
   ]
  },
  {
   "cell_type": "code",
   "execution_count": null,
   "id": "687e7164",
   "metadata": {},
   "outputs": [],
   "source": [
    "# Revision de la calidad y tipo de datos\n",
    "circuits.info()"
   ]
  },
  {
   "cell_type": "code",
   "execution_count": null,
   "id": "6f217a82",
   "metadata": {},
   "outputs": [],
   "source": [
    "# Tratamiento y modificaciones del dataframe 'constructor_results':\n",
    "# Sustituir valores '\\N' por NaN para normalizacion de nulos\n",
    "constructor_results.replace('\\\\N', np.nan, inplace=True)\n",
    "constructor_results.sample(5)"
   ]
  },
  {
   "cell_type": "code",
   "execution_count": null,
   "id": "6b81d602",
   "metadata": {},
   "outputs": [],
   "source": [
    "# Revision de la calidad y tipo de datos\n",
    "constructor_results.info()"
   ]
  },
  {
   "cell_type": "code",
   "execution_count": null,
   "id": "701f137d",
   "metadata": {},
   "outputs": [],
   "source": [
    "# Tratamiento y modificaciones del dataframe 'constructor_standings':\n",
    "# Elimnar columnas innecesarias: ['positionText']']\n",
    "constructor_standings.drop(columns=['positionText'], inplace=True)\n",
    "# Sustituir valores '\\N' por NaN para normalizacion de nulos\n",
    "constructor_standings.replace('\\\\N', np.nan, inplace=True)\n",
    "constructor_standings.sample(5)"
   ]
  },
  {
   "cell_type": "code",
   "execution_count": null,
   "id": "ca1298fd",
   "metadata": {},
   "outputs": [],
   "source": [
    "# Revision de la calidad y tipo de datos\n",
    "constructor_standings.info()"
   ]
  },
  {
   "cell_type": "code",
   "execution_count": 29,
   "id": "1ca6fcb5",
   "metadata": {},
   "outputs": [
    {
     "data": {
      "text/html": [
       "<div>\n",
       "<style scoped>\n",
       "    .dataframe tbody tr th:only-of-type {\n",
       "        vertical-align: middle;\n",
       "    }\n",
       "\n",
       "    .dataframe tbody tr th {\n",
       "        vertical-align: top;\n",
       "    }\n",
       "\n",
       "    .dataframe thead th {\n",
       "        text-align: right;\n",
       "    }\n",
       "</style>\n",
       "<table border=\"1\" class=\"dataframe\">\n",
       "  <thead>\n",
       "    <tr style=\"text-align: right;\">\n",
       "      <th></th>\n",
       "      <th>name</th>\n",
       "      <th>nationality</th>\n",
       "    </tr>\n",
       "    <tr>\n",
       "      <th>constructorId</th>\n",
       "      <th></th>\n",
       "      <th></th>\n",
       "    </tr>\n",
       "  </thead>\n",
       "  <tbody>\n",
       "    <tr>\n",
       "      <th>206</th>\n",
       "      <td>Marussia</td>\n",
       "      <td>Russian</td>\n",
       "    </tr>\n",
       "    <tr>\n",
       "      <th>48</th>\n",
       "      <td>Rial</td>\n",
       "      <td>German</td>\n",
       "    </tr>\n",
       "    <tr>\n",
       "      <th>2</th>\n",
       "      <td>BMW Sauber</td>\n",
       "      <td>German</td>\n",
       "    </tr>\n",
       "    <tr>\n",
       "      <th>187</th>\n",
       "      <td>McLaren-Ford</td>\n",
       "      <td>British</td>\n",
       "    </tr>\n",
       "    <tr>\n",
       "      <th>215</th>\n",
       "      <td>RB F1 Team</td>\n",
       "      <td>Italian</td>\n",
       "    </tr>\n",
       "  </tbody>\n",
       "</table>\n",
       "</div>"
      ],
      "text/plain": [
       "                       name nationality\n",
       "constructorId                          \n",
       "206                Marussia     Russian\n",
       "48                     Rial      German\n",
       "2                BMW Sauber      German\n",
       "187            McLaren-Ford     British\n",
       "215              RB F1 Team     Italian"
      ]
     },
     "execution_count": 29,
     "metadata": {},
     "output_type": "execute_result"
    }
   ],
   "source": [
    "# Tratamiento y modificaciones del dataframe 'constructors':\n",
    "# Elimnar ['constructorRef', 'url'] innecesarias\n",
    "constructors.drop(columns=['constructorRef', 'url'], inplace=True)\n",
    "# Formatear columna ['nationality'] a Nombre Propio\n",
    "constructors['nationality'] = constructors['nationality'].str.title()\n",
    "# Sustituir valores '\\N' por NaN para normalizacion de nulos\n",
    "constructors.replace('\\\\N', np.nan, inplace=True)\n",
    "constructors.sample(5)"
   ]
  },
  {
   "cell_type": "code",
   "execution_count": null,
   "id": "081bb8c9",
   "metadata": {},
   "outputs": [],
   "source": [
    "# Revision de la calidad y tipo de datos\n",
    "constructors.info()"
   ]
  },
  {
   "cell_type": "code",
   "execution_count": null,
   "id": "8c3cab24",
   "metadata": {},
   "outputs": [],
   "source": [
    "# Tratamiento y modificaciones del dataframe 'drivers_standings':\n",
    "# Elimnar columna ['positionText'] innecesaria\n",
    "driver_standings.drop(columns=['positionText'], inplace=True)\n",
    "# Sustituir valores '\\N' por NaN para normalizacion de nulos\n",
    "driver_standings.replace('\\\\N', np.nan, inplace=True)\n",
    "driver_standings.sample(5)"
   ]
  },
  {
   "cell_type": "code",
   "execution_count": null,
   "id": "c7cbea73",
   "metadata": {},
   "outputs": [],
   "source": [
    "# Revision de la calidad y tipo de datos\n",
    "driver_standings.info()"
   ]
  },
  {
   "cell_type": "code",
   "execution_count": null,
   "id": "b69db584",
   "metadata": {},
   "outputs": [],
   "source": [
    "# Tratamiento y modificaciones del dataframe 'drivers':\n",
    "# Elimnar columnas ['code', 'url'] innecesarias\n",
    "drivers.drop(columns=['code', 'url'], inplace=True)\n",
    "# Sustituir valores '\\N' por NaN para normalizacion de nulos\n",
    "drivers.replace('\\\\N', np.nan, inplace=True)\n",
    "# Formatear columna ['dob'] a tipo fecha\n",
    "drivers['dob'] = pd.to_datetime(drivers['dob'], errors='coerce')\n",
    "# Formatear la fecha a formato 'dd-mm-YYYY'\n",
    "drivers['dob'] = drivers['dob'].dt.strftime('%d-%m-%Y')\n",
    "# Renombrar columna ['dob'] a ['birth_date'] para mayor claridad\n",
    "drivers.rename(columns={'dob': 'birth_date'}, inplace=True)\n",
    "drivers.head(5)"
   ]
  },
  {
   "cell_type": "code",
   "execution_count": 22,
   "id": "c90191c9",
   "metadata": {},
   "outputs": [
    {
     "name": "stdout",
     "output_type": "stream",
     "text": [
      "<class 'pandas.core.frame.DataFrame'>\n",
      "Index: 861 entries, 1 to 862\n",
      "Data columns (total 8 columns):\n",
      " #   Column       Non-Null Count  Dtype \n",
      "---  ------       --------------  ----- \n",
      " 0   driverRef    861 non-null    object\n",
      " 1   number       59 non-null     object\n",
      " 2   code         104 non-null    object\n",
      " 3   forename     861 non-null    object\n",
      " 4   surname      861 non-null    object\n",
      " 5   dob          861 non-null    object\n",
      " 6   nationality  861 non-null    object\n",
      " 7   url          861 non-null    object\n",
      "dtypes: object(8)\n",
      "memory usage: 60.5+ KB\n"
     ]
    }
   ],
   "source": [
    "# Revision de la calidad y tipo de datos\n",
    "drivers.info()"
   ]
  },
  {
   "cell_type": "code",
   "execution_count": 24,
   "id": "f5f3429e",
   "metadata": {},
   "outputs": [
    {
     "ename": "ValueError",
     "evalue": "expected hh:mm:ss format before .",
     "output_type": "error",
     "traceback": [
      "\u001b[0;31m---------------------------------------------------------------------------\u001b[0m",
      "\u001b[0;31mValueError\u001b[0m                                Traceback (most recent call last)",
      "File \u001b[0;32mtimedeltas.pyx:438\u001b[0m, in \u001b[0;36mpandas._libs.tslibs.timedeltas.array_to_timedelta64\u001b[0;34m()\u001b[0m\n",
      "File \u001b[0;32mtimedeltas.pyx:470\u001b[0m, in \u001b[0;36mpandas._libs.tslibs.timedeltas._item_to_timedelta64_fastpath\u001b[0;34m()\u001b[0m\n",
      "File \u001b[0;32mtimedeltas.pyx:591\u001b[0m, in \u001b[0;36mpandas._libs.tslibs.timedeltas.parse_timedelta_string\u001b[0;34m()\u001b[0m\n",
      "\u001b[0;31mValueError\u001b[0m: expected hh:mm:ss format before .",
      "\nDuring handling of the above exception, another exception occurred:\n",
      "\u001b[0;31mValueError\u001b[0m                                Traceback (most recent call last)",
      "Cell \u001b[0;32mIn[24], line 5\u001b[0m\n\u001b[1;32m      3\u001b[0m lap_times\u001b[38;5;241m.\u001b[39mdrop(columns\u001b[38;5;241m=\u001b[39m[\u001b[38;5;124m'\u001b[39m\u001b[38;5;124mmilliseconds\u001b[39m\u001b[38;5;124m'\u001b[39m], inplace\u001b[38;5;241m=\u001b[39m\u001b[38;5;28;01mTrue\u001b[39;00m)\n\u001b[1;32m      4\u001b[0m \u001b[38;5;66;03m# Formatear columna ['time'] a tipo timedelta\u001b[39;00m\n\u001b[0;32m----> 5\u001b[0m lap_times[\u001b[38;5;124m'\u001b[39m\u001b[38;5;124mlap_time\u001b[39m\u001b[38;5;124m'\u001b[39m] \u001b[38;5;241m=\u001b[39m \u001b[43mpd\u001b[49m\u001b[38;5;241;43m.\u001b[39;49m\u001b[43mto_timedelta\u001b[49m\u001b[43m(\u001b[49m\u001b[43mlap_times\u001b[49m\u001b[43m[\u001b[49m\u001b[38;5;124;43m'\u001b[39;49m\u001b[38;5;124;43mtime\u001b[39;49m\u001b[38;5;124;43m'\u001b[39;49m\u001b[43m]\u001b[49m\u001b[43m)\u001b[49m\n\u001b[1;32m      6\u001b[0m \u001b[38;5;66;03m# Sustituir valores '\\N' por NaN para normalizacion de nulos\u001b[39;00m\n\u001b[1;32m      7\u001b[0m lap_times\u001b[38;5;241m.\u001b[39mreplace(\u001b[38;5;124m'\u001b[39m\u001b[38;5;130;01m\\\\\u001b[39;00m\u001b[38;5;124mN\u001b[39m\u001b[38;5;124m'\u001b[39m, np\u001b[38;5;241m.\u001b[39mnan, inplace\u001b[38;5;241m=\u001b[39m\u001b[38;5;28;01mTrue\u001b[39;00m)\n",
      "File \u001b[0;32m/Library/Frameworks/Python.framework/Versions/3.12/lib/python3.12/site-packages/pandas/core/tools/timedeltas.py:201\u001b[0m, in \u001b[0;36mto_timedelta\u001b[0;34m(arg, unit, errors)\u001b[0m\n\u001b[1;32m    199\u001b[0m     \u001b[38;5;28;01mreturn\u001b[39;00m arg\n\u001b[1;32m    200\u001b[0m \u001b[38;5;28;01melif\u001b[39;00m \u001b[38;5;28misinstance\u001b[39m(arg, ABCSeries):\n\u001b[0;32m--> 201\u001b[0m     values \u001b[38;5;241m=\u001b[39m \u001b[43m_convert_listlike\u001b[49m\u001b[43m(\u001b[49m\u001b[43marg\u001b[49m\u001b[38;5;241;43m.\u001b[39;49m\u001b[43m_values\u001b[49m\u001b[43m,\u001b[49m\u001b[43m \u001b[49m\u001b[43munit\u001b[49m\u001b[38;5;241;43m=\u001b[39;49m\u001b[43munit\u001b[49m\u001b[43m,\u001b[49m\u001b[43m \u001b[49m\u001b[43merrors\u001b[49m\u001b[38;5;241;43m=\u001b[39;49m\u001b[43merrors\u001b[49m\u001b[43m)\u001b[49m\n\u001b[1;32m    202\u001b[0m     \u001b[38;5;28;01mreturn\u001b[39;00m arg\u001b[38;5;241m.\u001b[39m_constructor(values, index\u001b[38;5;241m=\u001b[39marg\u001b[38;5;241m.\u001b[39mindex, name\u001b[38;5;241m=\u001b[39marg\u001b[38;5;241m.\u001b[39mname)\n\u001b[1;32m    203\u001b[0m \u001b[38;5;28;01melif\u001b[39;00m \u001b[38;5;28misinstance\u001b[39m(arg, ABCIndex):\n",
      "File \u001b[0;32m/Library/Frameworks/Python.framework/Versions/3.12/lib/python3.12/site-packages/pandas/core/tools/timedeltas.py:266\u001b[0m, in \u001b[0;36m_convert_listlike\u001b[0;34m(arg, unit, errors, name)\u001b[0m\n\u001b[1;32m    263\u001b[0m     \u001b[38;5;28;01mreturn\u001b[39;00m arg\n\u001b[1;32m    265\u001b[0m \u001b[38;5;28;01mtry\u001b[39;00m:\n\u001b[0;32m--> 266\u001b[0m     td64arr \u001b[38;5;241m=\u001b[39m \u001b[43msequence_to_td64ns\u001b[49m\u001b[43m(\u001b[49m\u001b[43marg\u001b[49m\u001b[43m,\u001b[49m\u001b[43m \u001b[49m\u001b[43munit\u001b[49m\u001b[38;5;241;43m=\u001b[39;49m\u001b[43munit\u001b[49m\u001b[43m,\u001b[49m\u001b[43m \u001b[49m\u001b[43merrors\u001b[49m\u001b[38;5;241;43m=\u001b[39;49m\u001b[43merrors\u001b[49m\u001b[43m,\u001b[49m\u001b[43m \u001b[49m\u001b[43mcopy\u001b[49m\u001b[38;5;241;43m=\u001b[39;49m\u001b[38;5;28;43;01mFalse\u001b[39;49;00m\u001b[43m)\u001b[49m[\u001b[38;5;241m0\u001b[39m]\n\u001b[1;32m    267\u001b[0m \u001b[38;5;28;01mexcept\u001b[39;00m \u001b[38;5;167;01mValueError\u001b[39;00m:\n\u001b[1;32m    268\u001b[0m     \u001b[38;5;28;01mif\u001b[39;00m errors \u001b[38;5;241m==\u001b[39m \u001b[38;5;124m\"\u001b[39m\u001b[38;5;124mignore\u001b[39m\u001b[38;5;124m\"\u001b[39m:\n",
      "File \u001b[0;32m/Library/Frameworks/Python.framework/Versions/3.12/lib/python3.12/site-packages/pandas/core/arrays/timedeltas.py:1050\u001b[0m, in \u001b[0;36msequence_to_td64ns\u001b[0;34m(data, copy, unit, errors)\u001b[0m\n\u001b[1;32m   1047\u001b[0m \u001b[38;5;66;03m# Convert whatever we have into timedelta64[ns] dtype\u001b[39;00m\n\u001b[1;32m   1048\u001b[0m \u001b[38;5;28;01mif\u001b[39;00m data\u001b[38;5;241m.\u001b[39mdtype \u001b[38;5;241m==\u001b[39m \u001b[38;5;28mobject\u001b[39m \u001b[38;5;129;01mor\u001b[39;00m is_string_dtype(data\u001b[38;5;241m.\u001b[39mdtype):\n\u001b[1;32m   1049\u001b[0m     \u001b[38;5;66;03m# no need to make a copy, need to convert if string-dtyped\u001b[39;00m\n\u001b[0;32m-> 1050\u001b[0m     data \u001b[38;5;241m=\u001b[39m \u001b[43m_objects_to_td64ns\u001b[49m\u001b[43m(\u001b[49m\u001b[43mdata\u001b[49m\u001b[43m,\u001b[49m\u001b[43m \u001b[49m\u001b[43munit\u001b[49m\u001b[38;5;241;43m=\u001b[39;49m\u001b[43munit\u001b[49m\u001b[43m,\u001b[49m\u001b[43m \u001b[49m\u001b[43merrors\u001b[49m\u001b[38;5;241;43m=\u001b[39;49m\u001b[43merrors\u001b[49m\u001b[43m)\u001b[49m\n\u001b[1;32m   1051\u001b[0m     copy \u001b[38;5;241m=\u001b[39m \u001b[38;5;28;01mFalse\u001b[39;00m\n\u001b[1;32m   1053\u001b[0m \u001b[38;5;28;01melif\u001b[39;00m is_integer_dtype(data\u001b[38;5;241m.\u001b[39mdtype):\n\u001b[1;32m   1054\u001b[0m     \u001b[38;5;66;03m# treat as multiples of the given unit\u001b[39;00m\n",
      "File \u001b[0;32m/Library/Frameworks/Python.framework/Versions/3.12/lib/python3.12/site-packages/pandas/core/arrays/timedeltas.py:1166\u001b[0m, in \u001b[0;36m_objects_to_td64ns\u001b[0;34m(data, unit, errors)\u001b[0m\n\u001b[1;32m   1163\u001b[0m \u001b[38;5;66;03m# coerce Index to np.ndarray, converting string-dtype if necessary\u001b[39;00m\n\u001b[1;32m   1164\u001b[0m values \u001b[38;5;241m=\u001b[39m np\u001b[38;5;241m.\u001b[39masarray(data, dtype\u001b[38;5;241m=\u001b[39mnp\u001b[38;5;241m.\u001b[39mobject_)\n\u001b[0;32m-> 1166\u001b[0m result \u001b[38;5;241m=\u001b[39m \u001b[43marray_to_timedelta64\u001b[49m\u001b[43m(\u001b[49m\u001b[43mvalues\u001b[49m\u001b[43m,\u001b[49m\u001b[43m \u001b[49m\u001b[43munit\u001b[49m\u001b[38;5;241;43m=\u001b[39;49m\u001b[43munit\u001b[49m\u001b[43m,\u001b[49m\u001b[43m \u001b[49m\u001b[43merrors\u001b[49m\u001b[38;5;241;43m=\u001b[39;49m\u001b[43merrors\u001b[49m\u001b[43m)\u001b[49m\n\u001b[1;32m   1167\u001b[0m \u001b[38;5;28;01mreturn\u001b[39;00m result\u001b[38;5;241m.\u001b[39mview(\u001b[38;5;124m\"\u001b[39m\u001b[38;5;124mtimedelta64[ns]\u001b[39m\u001b[38;5;124m\"\u001b[39m)\n",
      "File \u001b[0;32mtimedeltas.pyx:452\u001b[0m, in \u001b[0;36mpandas._libs.tslibs.timedeltas.array_to_timedelta64\u001b[0;34m()\u001b[0m\n",
      "File \u001b[0;32mtimedeltas.pyx:491\u001b[0m, in \u001b[0;36mpandas._libs.tslibs.timedeltas._item_to_timedelta64\u001b[0;34m()\u001b[0m\n",
      "File \u001b[0;32mtimedeltas.pyx:482\u001b[0m, in \u001b[0;36mpandas._libs.tslibs.timedeltas._item_to_timedelta64\u001b[0;34m()\u001b[0m\n",
      "File \u001b[0;32mtimedeltas.pyx:361\u001b[0m, in \u001b[0;36mpandas._libs.tslibs.timedeltas.convert_to_timedelta64\u001b[0;34m()\u001b[0m\n",
      "File \u001b[0;32mtimedeltas.pyx:591\u001b[0m, in \u001b[0;36mpandas._libs.tslibs.timedeltas.parse_timedelta_string\u001b[0;34m()\u001b[0m\n",
      "\u001b[0;31mValueError\u001b[0m: expected hh:mm:ss format before ."
     ]
    }
   ],
   "source": [
    "# Tratamiento y modificaciones del dataframe 'lap_times':\n",
    "# Elimnar columna ['milliseconds'] innecesaria\n",
    "lap_times.drop(columns=['milliseconds'], inplace=True)\n",
    "# Formatear columna ['time'] a tipo timedelta\n",
    "lap_times['lap_time'] = pd.to_timedelta(lap_times['time'])\n",
    "# Sustituir valores '\\N' por NaN para normalizacion de nulos\n",
    "lap_times.replace('\\\\N', np.nan, inplace=True)\n",
    "lap_times.sample(5)"
   ]
  },
  {
   "cell_type": "code",
   "execution_count": 23,
   "id": "a846ee0e",
   "metadata": {},
   "outputs": [
    {
     "name": "stdout",
     "output_type": "stream",
     "text": [
      "<class 'pandas.core.frame.DataFrame'>\n",
      "Index: 589081 entries, 841 to 1144\n",
      "Data columns (total 5 columns):\n",
      " #   Column        Non-Null Count   Dtype \n",
      "---  ------        --------------   ----- \n",
      " 0   driverId      589081 non-null  int64 \n",
      " 1   lap           589081 non-null  int64 \n",
      " 2   position      589081 non-null  int64 \n",
      " 3   time          589081 non-null  object\n",
      " 4   milliseconds  589081 non-null  int64 \n",
      "dtypes: int64(4), object(1)\n",
      "memory usage: 27.0+ MB\n"
     ]
    }
   ],
   "source": [
    "# Revision de la calidad y tipo de datos\n",
    "lap_times.info()"
   ]
  },
  {
   "cell_type": "code",
   "execution_count": 28,
   "id": "08ef57a0",
   "metadata": {},
   "outputs": [
    {
     "ename": "ValueError",
     "evalue": "unit must not be specified if the input contains a str",
     "output_type": "error",
     "traceback": [
      "\u001b[0;31m---------------------------------------------------------------------------\u001b[0m",
      "\u001b[0;31mValueError\u001b[0m                                Traceback (most recent call last)",
      "Cell \u001b[0;32mIn[28], line 5\u001b[0m\n\u001b[1;32m      3\u001b[0m pit_stops\u001b[38;5;241m.\u001b[39mdrop(columns\u001b[38;5;241m=\u001b[39m[\u001b[38;5;124m'\u001b[39m\u001b[38;5;124mtime\u001b[39m\u001b[38;5;124m'\u001b[39m, \u001b[38;5;124m'\u001b[39m\u001b[38;5;124mmilliseconds\u001b[39m\u001b[38;5;124m'\u001b[39m], inplace\u001b[38;5;241m=\u001b[39m\u001b[38;5;28;01mTrue\u001b[39;00m)\n\u001b[1;32m      4\u001b[0m \u001b[38;5;66;03m# Formatear columna ['duration'] a tipo timedelta y convertir la columna 'duration' a segundos\u001b[39;00m\n\u001b[0;32m----> 5\u001b[0m pit_stops[\u001b[38;5;124m'\u001b[39m\u001b[38;5;124mduration_s\u001b[39m\u001b[38;5;124m'\u001b[39m] \u001b[38;5;241m=\u001b[39m \u001b[43mpd\u001b[49m\u001b[38;5;241;43m.\u001b[39;49m\u001b[43mto_timedelta\u001b[49m\u001b[43m(\u001b[49m\u001b[43mpit_stops\u001b[49m\u001b[43m[\u001b[49m\u001b[38;5;124;43m'\u001b[39;49m\u001b[38;5;124;43mduration\u001b[39;49m\u001b[38;5;124;43m'\u001b[39;49m\u001b[43m]\u001b[49m\u001b[43m,\u001b[49m\u001b[43m \u001b[49m\u001b[43munit\u001b[49m\u001b[38;5;241;43m=\u001b[39;49m\u001b[38;5;124;43m'\u001b[39;49m\u001b[38;5;124;43ms\u001b[39;49m\u001b[38;5;124;43m'\u001b[39;49m\u001b[43m)\u001b[49m\n\u001b[1;32m      6\u001b[0m \u001b[38;5;66;03m# Sustituir valores '\\N' por NaN para normalizacion de nulos\u001b[39;00m\n\u001b[1;32m      7\u001b[0m pit_stops\u001b[38;5;241m.\u001b[39mreplace(\u001b[38;5;124m'\u001b[39m\u001b[38;5;130;01m\\\\\u001b[39;00m\u001b[38;5;124mN\u001b[39m\u001b[38;5;124m'\u001b[39m, np\u001b[38;5;241m.\u001b[39mnan, inplace\u001b[38;5;241m=\u001b[39m\u001b[38;5;28;01mTrue\u001b[39;00m)\n",
      "File \u001b[0;32m/Library/Frameworks/Python.framework/Versions/3.12/lib/python3.12/site-packages/pandas/core/tools/timedeltas.py:201\u001b[0m, in \u001b[0;36mto_timedelta\u001b[0;34m(arg, unit, errors)\u001b[0m\n\u001b[1;32m    199\u001b[0m     \u001b[38;5;28;01mreturn\u001b[39;00m arg\n\u001b[1;32m    200\u001b[0m \u001b[38;5;28;01melif\u001b[39;00m \u001b[38;5;28misinstance\u001b[39m(arg, ABCSeries):\n\u001b[0;32m--> 201\u001b[0m     values \u001b[38;5;241m=\u001b[39m \u001b[43m_convert_listlike\u001b[49m\u001b[43m(\u001b[49m\u001b[43marg\u001b[49m\u001b[38;5;241;43m.\u001b[39;49m\u001b[43m_values\u001b[49m\u001b[43m,\u001b[49m\u001b[43m \u001b[49m\u001b[43munit\u001b[49m\u001b[38;5;241;43m=\u001b[39;49m\u001b[43munit\u001b[49m\u001b[43m,\u001b[49m\u001b[43m \u001b[49m\u001b[43merrors\u001b[49m\u001b[38;5;241;43m=\u001b[39;49m\u001b[43merrors\u001b[49m\u001b[43m)\u001b[49m\n\u001b[1;32m    202\u001b[0m     \u001b[38;5;28;01mreturn\u001b[39;00m arg\u001b[38;5;241m.\u001b[39m_constructor(values, index\u001b[38;5;241m=\u001b[39marg\u001b[38;5;241m.\u001b[39mindex, name\u001b[38;5;241m=\u001b[39marg\u001b[38;5;241m.\u001b[39mname)\n\u001b[1;32m    203\u001b[0m \u001b[38;5;28;01melif\u001b[39;00m \u001b[38;5;28misinstance\u001b[39m(arg, ABCIndex):\n",
      "File \u001b[0;32m/Library/Frameworks/Python.framework/Versions/3.12/lib/python3.12/site-packages/pandas/core/tools/timedeltas.py:266\u001b[0m, in \u001b[0;36m_convert_listlike\u001b[0;34m(arg, unit, errors, name)\u001b[0m\n\u001b[1;32m    263\u001b[0m     \u001b[38;5;28;01mreturn\u001b[39;00m arg\n\u001b[1;32m    265\u001b[0m \u001b[38;5;28;01mtry\u001b[39;00m:\n\u001b[0;32m--> 266\u001b[0m     td64arr \u001b[38;5;241m=\u001b[39m \u001b[43msequence_to_td64ns\u001b[49m\u001b[43m(\u001b[49m\u001b[43marg\u001b[49m\u001b[43m,\u001b[49m\u001b[43m \u001b[49m\u001b[43munit\u001b[49m\u001b[38;5;241;43m=\u001b[39;49m\u001b[43munit\u001b[49m\u001b[43m,\u001b[49m\u001b[43m \u001b[49m\u001b[43merrors\u001b[49m\u001b[38;5;241;43m=\u001b[39;49m\u001b[43merrors\u001b[49m\u001b[43m,\u001b[49m\u001b[43m \u001b[49m\u001b[43mcopy\u001b[49m\u001b[38;5;241;43m=\u001b[39;49m\u001b[38;5;28;43;01mFalse\u001b[39;49;00m\u001b[43m)\u001b[49m[\u001b[38;5;241m0\u001b[39m]\n\u001b[1;32m    267\u001b[0m \u001b[38;5;28;01mexcept\u001b[39;00m \u001b[38;5;167;01mValueError\u001b[39;00m:\n\u001b[1;32m    268\u001b[0m     \u001b[38;5;28;01mif\u001b[39;00m errors \u001b[38;5;241m==\u001b[39m \u001b[38;5;124m\"\u001b[39m\u001b[38;5;124mignore\u001b[39m\u001b[38;5;124m\"\u001b[39m:\n",
      "File \u001b[0;32m/Library/Frameworks/Python.framework/Versions/3.12/lib/python3.12/site-packages/pandas/core/arrays/timedeltas.py:1050\u001b[0m, in \u001b[0;36msequence_to_td64ns\u001b[0;34m(data, copy, unit, errors)\u001b[0m\n\u001b[1;32m   1047\u001b[0m \u001b[38;5;66;03m# Convert whatever we have into timedelta64[ns] dtype\u001b[39;00m\n\u001b[1;32m   1048\u001b[0m \u001b[38;5;28;01mif\u001b[39;00m data\u001b[38;5;241m.\u001b[39mdtype \u001b[38;5;241m==\u001b[39m \u001b[38;5;28mobject\u001b[39m \u001b[38;5;129;01mor\u001b[39;00m is_string_dtype(data\u001b[38;5;241m.\u001b[39mdtype):\n\u001b[1;32m   1049\u001b[0m     \u001b[38;5;66;03m# no need to make a copy, need to convert if string-dtyped\u001b[39;00m\n\u001b[0;32m-> 1050\u001b[0m     data \u001b[38;5;241m=\u001b[39m \u001b[43m_objects_to_td64ns\u001b[49m\u001b[43m(\u001b[49m\u001b[43mdata\u001b[49m\u001b[43m,\u001b[49m\u001b[43m \u001b[49m\u001b[43munit\u001b[49m\u001b[38;5;241;43m=\u001b[39;49m\u001b[43munit\u001b[49m\u001b[43m,\u001b[49m\u001b[43m \u001b[49m\u001b[43merrors\u001b[49m\u001b[38;5;241;43m=\u001b[39;49m\u001b[43merrors\u001b[49m\u001b[43m)\u001b[49m\n\u001b[1;32m   1051\u001b[0m     copy \u001b[38;5;241m=\u001b[39m \u001b[38;5;28;01mFalse\u001b[39;00m\n\u001b[1;32m   1053\u001b[0m \u001b[38;5;28;01melif\u001b[39;00m is_integer_dtype(data\u001b[38;5;241m.\u001b[39mdtype):\n\u001b[1;32m   1054\u001b[0m     \u001b[38;5;66;03m# treat as multiples of the given unit\u001b[39;00m\n",
      "File \u001b[0;32m/Library/Frameworks/Python.framework/Versions/3.12/lib/python3.12/site-packages/pandas/core/arrays/timedeltas.py:1166\u001b[0m, in \u001b[0;36m_objects_to_td64ns\u001b[0;34m(data, unit, errors)\u001b[0m\n\u001b[1;32m   1163\u001b[0m \u001b[38;5;66;03m# coerce Index to np.ndarray, converting string-dtype if necessary\u001b[39;00m\n\u001b[1;32m   1164\u001b[0m values \u001b[38;5;241m=\u001b[39m np\u001b[38;5;241m.\u001b[39masarray(data, dtype\u001b[38;5;241m=\u001b[39mnp\u001b[38;5;241m.\u001b[39mobject_)\n\u001b[0;32m-> 1166\u001b[0m result \u001b[38;5;241m=\u001b[39m \u001b[43marray_to_timedelta64\u001b[49m\u001b[43m(\u001b[49m\u001b[43mvalues\u001b[49m\u001b[43m,\u001b[49m\u001b[43m \u001b[49m\u001b[43munit\u001b[49m\u001b[38;5;241;43m=\u001b[39;49m\u001b[43munit\u001b[49m\u001b[43m,\u001b[49m\u001b[43m \u001b[49m\u001b[43merrors\u001b[49m\u001b[38;5;241;43m=\u001b[39;49m\u001b[43merrors\u001b[49m\u001b[43m)\u001b[49m\n\u001b[1;32m   1167\u001b[0m \u001b[38;5;28;01mreturn\u001b[39;00m result\u001b[38;5;241m.\u001b[39mview(\u001b[38;5;124m\"\u001b[39m\u001b[38;5;124mtimedelta64[ns]\u001b[39m\u001b[38;5;124m\"\u001b[39m)\n",
      "File \u001b[0;32mtimedeltas.pyx:425\u001b[0m, in \u001b[0;36mpandas._libs.tslibs.timedeltas.array_to_timedelta64\u001b[0;34m()\u001b[0m\n",
      "\u001b[0;31mValueError\u001b[0m: unit must not be specified if the input contains a str"
     ]
    }
   ],
   "source": [
    "# Tratamiento y modificaciones del dataframe 'pit_stops':\n",
    "# Elimnar columnas ['time', 'milliseconds'] innecesarias\n",
    "pit_stops.drop(columns=['time', 'milliseconds'], inplace=True)\n",
    "# Formatear columna ['duration'] a tipo timedelta y convertir la columna 'duration' a segundos\n",
    "pit_stops['duration_s'] = pd.to_timedelta(pit_stops['duration'], unit='s')\n",
    "# Sustituir valores '\\N' por NaN para normalizacion de nulos\n",
    "pit_stops.replace('\\\\N', np.nan, inplace=True)\n",
    "\n",
    "pit_stops.sample(5)"
   ]
  },
  {
   "cell_type": "code",
   "execution_count": null,
   "id": "9d4d80ae",
   "metadata": {},
   "outputs": [],
   "source": [
    "# Revision de la calidad y tipo de datos\n",
    "pit_stops.info()"
   ]
  },
  {
   "cell_type": "code",
   "execution_count": null,
   "id": "beb9e0ed",
   "metadata": {},
   "outputs": [],
   "source": [
    "# Tratamiento y modificaciones del dataframe 'races':\n",
    "# Elimnar columnas ['fp1_date', 'fp1_time', 'fp2_date', 'fp2_time', 'fp3_date', 'fp3_time', 'quali_time', 'sprint_time', 'url'] innecesarias\n",
    "races.drop(columns=['fp1_date', 'fp1_time', 'fp2_date', 'fp2_time', 'fp3_date', 'fp3_time', 'quali_time', 'sprint_time', 'url'], inplace=True)\n",
    "# Sustituir valores '\\N' por NaN para normalizacion de nulos\n",
    "races.replace('\\\\N', np.nan, inplace=True)\n",
    "# Formatear columnas ['date', 'quali_date', 'sprint_date'] a tipo fecha\n",
    "races['date'] = pd.to_datetime(races['date'], format='%Y-%m-%d', errors='coerce')\n",
    "races['quali_date'] = pd.to_datetime(races['quali_date'], format='%Y-%m-%d', errors='coerce')\n",
    "races['sprint_date'] = pd.to_datetime(races['sprint_date'], format='%Y-%m-%d', errors='coerce')\n",
    "# Formatear las fechas a formato 'dd-mm-YYYY'\n",
    "races['date'] = races['date'].dt.strftime('%d-%m-%Y')\n",
    "races['quali_date'] = races['quali_date'].dt.strftime('%d-%m-%Y')\n",
    "races['sprint_date'] = races['sprint_date'].dt.strftime('%d-%m-%Y')\n",
    "races.sample(5)"
   ]
  },
  {
   "cell_type": "code",
   "execution_count": null,
   "id": "3493749e",
   "metadata": {},
   "outputs": [],
   "source": [
    "# Revision de la calidad y tipo de datos\n",
    "races.info()"
   ]
  },
  {
   "cell_type": "code",
   "execution_count": null,
   "id": "487c2a10",
   "metadata": {},
   "outputs": [],
   "source": [
    "# Tratamiento y modificaciones del dataframe 'results':\n",
    "# Elimnar columnas ['positionText', 'milliseconds'] innecesarias\n",
    "results.drop(columns=['positionText', 'milliseconds'], inplace=True)\n",
    "# Sustituir valores '\\N' por NaN para normalizacion de nulos\n",
    "results.replace('\\\\N', np.nan, inplace=True)\n",
    "results.sample(5)"
   ]
  },
  {
   "cell_type": "code",
   "execution_count": null,
   "id": "0feb3f11",
   "metadata": {},
   "outputs": [],
   "source": [
    "# Revision de la calidad y tipo de datos\n",
    "results.info()"
   ]
  },
  {
   "cell_type": "code",
   "execution_count": null,
   "id": "82acacb7",
   "metadata": {},
   "outputs": [],
   "source": [
    "# Tratamiento y modificaciones del dataframe 'sprint_results':\n",
    "# Elimnar columnas ['milliseconds'] innecesarias\n",
    "sprint_results.drop(columns=['milliseconds'], inplace=True)\n",
    "# Sustituir valores '\\N' por NaN para normalizacion de nulos\n",
    "sprint_results.replace('\\\\N', np.nan, inplace=True)\n",
    "sprint_results.sample(5)"
   ]
  },
  {
   "cell_type": "code",
   "execution_count": null,
   "id": "1f7f3ed0",
   "metadata": {},
   "outputs": [],
   "source": [
    "# Revision de la calidad y tipo de datos\n",
    "sprint_results.info()"
   ]
  },
  {
   "cell_type": "code",
   "execution_count": 30,
   "id": "6786106c",
   "metadata": {},
   "outputs": [
    {
     "name": "stdout",
     "output_type": "stream",
     "text": [
      "<class 'pandas.core.frame.DataFrame'>\n",
      "Index: 139 entries, 1 to 141\n",
      "Data columns (total 1 columns):\n",
      " #   Column  Non-Null Count  Dtype \n",
      "---  ------  --------------  ----- \n",
      " 0   status  139 non-null    object\n",
      "dtypes: object(1)\n",
      "memory usage: 2.2+ KB\n"
     ]
    }
   ],
   "source": [
    "# Revision de la calidad y tipo de datos\n",
    "status.info()"
   ]
  }
 ],
 "metadata": {
  "kernelspec": {
   "display_name": "Python 3",
   "language": "python",
   "name": "python3"
  },
  "language_info": {
   "codemirror_mode": {
    "name": "ipython",
    "version": 3
   },
   "file_extension": ".py",
   "mimetype": "text/x-python",
   "name": "python",
   "nbconvert_exporter": "python",
   "pygments_lexer": "ipython3",
   "version": "3.12.2"
  }
 },
 "nbformat": 4,
 "nbformat_minor": 5
}
